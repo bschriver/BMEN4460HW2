{
 "cells": [
  {
   "cell_type": "markdown",
   "metadata": {},
   "source": [
    "# Homework 2 - BME E4460 Deep Learning in Biomedical Engineering\n",
    "\n",
    "Instructor’s Name: Dr. Andrew Laine (laine@columbia.edu) and Dr. Jia Guo (jg3400@columbia.edu)\n",
    "\n",
    "Teaching Assistant (TA):  Hengda He (hh2699@columbia.edu)      Grader:  Xueqing Liu (xueqing.liu@columbia.edu)\n",
    "      \n",
    "This assignment comes with two sections.\n",
    "\n",
    "--------------------------------------------------\n",
    "\n",
    "- Section 1: Concepts and Theories (25')\n",
    "\n",
    "1) True/False (15')\n",
    "\n",
    "2) Multiple choice (10')\n",
    "\n",
    "- Section 2: Programming (75' + Bonus 10')\n",
    "\n",
    "1) Gredient Descent - a binary classification example using Adaptive linear neuron model (35')\n",
    "\n",
    "2) MNIST CNN (40' + Bonus 10')\n",
    "\n",
    "--------------------------------------------------\n",
    "\n",
    "TA office hours:\n",
    "\n",
    "- (Hengda He) Feb 17th, Monday, time 5:00-6:00 pm (place: Mudd BME Multipurpose Room (ET343))\n",
    "- (Hengda He) Feb 24th, Monday, time 5:00-6:00 pm (place: Mudd BME Multipurpose Room (ET343))\n",
    "\n",
    "- (Xueqing Liu) TBA\n",
    "- (Xueqing Liu) TBA\n",
    "\n",
    "--------------------------------------------------\n",
    "\n",
    "Please remember to stop the VM instances after using (prevent from losing money)\n",
    "\n",
    "Homework release date: Feb 14 2020\n",
    "\n",
    "Homework due time: Feb 28 2020 10:00pm\n",
    "\n",
    "Your name and UNI: "
   ]
  },
  {
   "cell_type": "markdown",
   "metadata": {},
   "source": [
    "## Section 1. Concepts and Theories (25')"
   ]
  },
  {
   "cell_type": "markdown",
   "metadata": {},
   "source": [
    "### 1. True/False (15')"
   ]
  },
  {
   "cell_type": "markdown",
   "metadata": {},
   "source": [
    "- a. Max pooling is usually applied right before an ReLU in a CNN layer.\n",
    "- b. Convergence of gradient decent in convex problems is (mathematically) assured. \n",
    "- c. A sufficient (but not necessary) condition for running a gradient decent algorithm on a neural network is that each neuron’s transfer function be differentiable. "
   ]
  },
  {
   "cell_type": "markdown",
   "metadata": {},
   "source": [
    "### 2. Multiple choice (10')"
   ]
  },
  {
   "cell_type": "markdown",
   "metadata": {},
   "source": [
    "Which of the following is true with respect to the training process of a deep net?\n",
    "\n",
    "- a)\tThe training process utilizes gradients which measure the change at which the weights and biases change with respect to the cost.\n",
    "- b)\t The cost is the difference between the net's predicted and actual outputs.\n",
    "- c)\tThe training process utilizes a technique called back-propagation.\n",
    "- d)\tThe objective of the training process is to make the cost as low as possible.\n",
    "- e)\tAll of the above.\n"
   ]
  },
  {
   "cell_type": "markdown",
   "metadata": {},
   "source": [
    "## Section 2. Programming (75' + Bonus 10')"
   ]
  },
  {
   "cell_type": "markdown",
   "metadata": {},
   "source": [
    "### 1. Gredient Descent - a binary classification example using Adaptive linear neuron model (35')"
   ]
  },
  {
   "cell_type": "markdown",
   "metadata": {},
   "source": [
    "Import packages"
   ]
  },
  {
   "cell_type": "code",
   "execution_count": 2,
   "metadata": {},
   "outputs": [],
   "source": [
    "%matplotlib inline\n",
    "import matplotlib.pyplot as plt\n",
    "import numpy as np\n",
    "import pandas as pd"
   ]
  },
  {
   "cell_type": "markdown",
   "metadata": {},
   "source": [
    "Load Wisconsin Breast Cancer Dataset, and display last five lines\n",
    "\n",
    "- Number of Instances: 699\n",
    "- Number of Attributes: 10 plus the class attribute\n",
    "<pre>\n",
    "   Attribute                     Domain\n",
    "   -- -----------------------------------------\n",
    "   1. Sample code number            id number\n",
    "   2. Clump Thickness               1 - 10\n",
    "   3. Uniformity of Cell Size       1 - 10\n",
    "   4. Uniformity of Cell Shape      1 - 10\n",
    "   5. Marginal Adhesion             1 - 10\n",
    "   6. Single Epithelial Cell Size   1 - 10\n",
    "   7. Bare Nuclei                   1 - 10\n",
    "   8. Bland Chromatin               1 - 10\n",
    "   9. Normal Nucleoli               1 - 10\n",
    "  10. Mitoses                       1 - 10\n",
    "  11. Class:                        (2 for benign, 4 for malignant)\n",
    "</pre>\n",
    "\n",
    "O. L. Mangasarian and W. H. Wolberg: \"Cancer diagnosis via linear programming\", SIAM News, Volume 23, Number 5, September 1990, pp 1 & 18."
   ]
  },
  {
   "cell_type": "code",
   "execution_count": 3,
   "metadata": {},
   "outputs": [
    {
     "data": {
      "text/html": [
       "<div>\n",
       "<style scoped>\n",
       "    .dataframe tbody tr th:only-of-type {\n",
       "        vertical-align: middle;\n",
       "    }\n",
       "\n",
       "    .dataframe tbody tr th {\n",
       "        vertical-align: top;\n",
       "    }\n",
       "\n",
       "    .dataframe thead th {\n",
       "        text-align: right;\n",
       "    }\n",
       "</style>\n",
       "<table border=\"1\" class=\"dataframe\">\n",
       "  <thead>\n",
       "    <tr style=\"text-align: right;\">\n",
       "      <th></th>\n",
       "      <th>0</th>\n",
       "      <th>1</th>\n",
       "      <th>2</th>\n",
       "      <th>3</th>\n",
       "      <th>4</th>\n",
       "      <th>5</th>\n",
       "      <th>6</th>\n",
       "      <th>7</th>\n",
       "      <th>8</th>\n",
       "      <th>9</th>\n",
       "      <th>10</th>\n",
       "    </tr>\n",
       "  </thead>\n",
       "  <tbody>\n",
       "    <tr>\n",
       "      <th>694</th>\n",
       "      <td>776715</td>\n",
       "      <td>3</td>\n",
       "      <td>1</td>\n",
       "      <td>1</td>\n",
       "      <td>1</td>\n",
       "      <td>3</td>\n",
       "      <td>2</td>\n",
       "      <td>1</td>\n",
       "      <td>1</td>\n",
       "      <td>1</td>\n",
       "      <td>2</td>\n",
       "    </tr>\n",
       "    <tr>\n",
       "      <th>695</th>\n",
       "      <td>841769</td>\n",
       "      <td>2</td>\n",
       "      <td>1</td>\n",
       "      <td>1</td>\n",
       "      <td>1</td>\n",
       "      <td>2</td>\n",
       "      <td>1</td>\n",
       "      <td>1</td>\n",
       "      <td>1</td>\n",
       "      <td>1</td>\n",
       "      <td>2</td>\n",
       "    </tr>\n",
       "    <tr>\n",
       "      <th>696</th>\n",
       "      <td>888820</td>\n",
       "      <td>5</td>\n",
       "      <td>10</td>\n",
       "      <td>10</td>\n",
       "      <td>3</td>\n",
       "      <td>7</td>\n",
       "      <td>3</td>\n",
       "      <td>8</td>\n",
       "      <td>10</td>\n",
       "      <td>2</td>\n",
       "      <td>4</td>\n",
       "    </tr>\n",
       "    <tr>\n",
       "      <th>697</th>\n",
       "      <td>897471</td>\n",
       "      <td>4</td>\n",
       "      <td>8</td>\n",
       "      <td>6</td>\n",
       "      <td>4</td>\n",
       "      <td>3</td>\n",
       "      <td>4</td>\n",
       "      <td>10</td>\n",
       "      <td>6</td>\n",
       "      <td>1</td>\n",
       "      <td>4</td>\n",
       "    </tr>\n",
       "    <tr>\n",
       "      <th>698</th>\n",
       "      <td>897471</td>\n",
       "      <td>4</td>\n",
       "      <td>8</td>\n",
       "      <td>8</td>\n",
       "      <td>5</td>\n",
       "      <td>4</td>\n",
       "      <td>5</td>\n",
       "      <td>10</td>\n",
       "      <td>4</td>\n",
       "      <td>1</td>\n",
       "      <td>4</td>\n",
       "    </tr>\n",
       "  </tbody>\n",
       "</table>\n",
       "</div>"
      ],
      "text/plain": [
       "         0   1   2   3   4   5  6   7   8   9   10\n",
       "694  776715   3   1   1   1   3  2   1   1   1   2\n",
       "695  841769   2   1   1   1   2  1   1   1   1   2\n",
       "696  888820   5  10  10   3   7  3   8  10   2   4\n",
       "697  897471   4   8   6   4   3  4  10   6   1   4\n",
       "698  897471   4   8   8   5   4  5  10   4   1   4"
      ]
     },
     "execution_count": 3,
     "metadata": {},
     "output_type": "execute_result"
    }
   ],
   "source": [
    "df = pd.read_csv('data/breast-cancer-wisconsin.data', header=None)\n",
    "df.tail()"
   ]
  },
  {
   "cell_type": "markdown",
   "metadata": {},
   "source": [
    "Extract labels (2 for benign, 4 for malignant) and convert into two integer class labels (-1 for benign, 1 for malignant)"
   ]
  },
  {
   "cell_type": "code",
   "execution_count": 4,
   "metadata": {},
   "outputs": [],
   "source": [
    "# select 2(benign) and 4(malignant)\n",
    "y = df.iloc[:, 10].values\n",
    "y = np.where(y == 2, -1, 1)"
   ]
  },
  {
   "cell_type": "markdown",
   "metadata": {},
   "source": [
    "Extract the first feature column (Clump Thickness) and the second feature column (Uniformity of Cell Size) of all the trainset and assign them to matrix X."
   ]
  },
  {
   "cell_type": "code",
   "execution_count": 5,
   "metadata": {},
   "outputs": [
    {
     "name": "stdout",
     "output_type": "stream",
     "text": [
      "(699, 2)\n",
      "[[ 5  1]\n",
      " [ 5  4]\n",
      " [ 3  1]\n",
      " ...\n",
      " [ 5 10]\n",
      " [ 4  8]\n",
      " [ 4  8]]\n"
     ]
    }
   ],
   "source": [
    "# extract Clump Thickness and Uniformity of Cell Size\n",
    "X = df.iloc[:, [1, 2]].values\n",
    "print(X.shape)\n",
    "print(X)"
   ]
  },
  {
   "cell_type": "markdown",
   "metadata": {},
   "source": [
    "Visualize data with scatterplot. Distribution of data samples along two feature axes (Clump Thickness and Uniformity of Cell Size)."
   ]
  },
  {
   "cell_type": "code",
   "execution_count": 8,
   "metadata": {},
   "outputs": [
    {
     "name": "stdout",
     "output_type": "stream",
     "text": [
      "There is some overlap between the distribution of Benign and Malignant, but we can still train a classifier (Red Dot: Benign; Blue Cross: Malignant)\n"
     ]
    },
    {
     "data": {
      "image/png": "[encoded data removed]",
      "text/plain": [
       "<Figure size 432x288 with 1 Axes>"
      ]
     },
     "metadata": {
      "needs_background": "light"
     },
     "output_type": "display_data"
    }
   ],
   "source": [
    "idx_1 = np.where(y == -1)\n",
    "idx1 = np.where(y == 1)\n",
    "\n",
    "plt.scatter(X[idx_1, 0], X[idx_1, 1],\n",
    "            color='red', marker='o', label='benign')\n",
    "plt.scatter(X[idx1, 0], X[idx1, 1],\n",
    "            color='blue', marker='x', label='malignant')\n",
    "\n",
    "plt.xlabel('Clump Thickness')\n",
    "plt.ylabel('Uniformity of Cell Size')\n",
    "plt.legend(loc='upper left')\n",
    "print('There is some overlap between the distribution of Benign and Malignant, but we can still train a classifier (Red Dot: Benign; Blue Cross: Malignant)')\n",
    "plt.show()\n"
   ]
  },
  {
   "cell_type": "markdown",
   "metadata": {},
   "source": [
    "Given weight vector $w$, input samples $x$, true class label $y$ and linear activation function $\\phi(z)=\\phi(w^Tx)=w^Tx$\n",
    "\n",
    "We use Sum of Squared Errors (SSE) as the objective function $J(w)$\n",
    "\n",
    "\\begin{equation*}\n",
    "J(w)=\\frac{1}{2}\\sum_{i}(y^i-\\phi(z^i))^2\n",
    "\\end{equation*}\n",
    "\n",
    "(1) (20') Please implement a gradient descent algorithm to update the weights $w$:\n",
    "- 1. $w = w + \\Delta w$\n",
    "- 2. $\\Delta w = -\\eta\\nabla J(w)$\n",
    "- 3. $\\frac{\\partial J}{\\partial w_j}=-\\sum_{i}(y^i-\\phi(z^i))x_j^i$\n",
    "- 4. $\\Delta w_j=-\\eta\\frac{\\partial J}{\\partial w_j}=\\eta\\sum_{i}(y^i-\\phi(z^i))x_j^i$\n",
    "\n",
    "Please set your learning rate $\\eta$ and iteration number (until converge) properly."
   ]
  },
  {
   "cell_type": "code",
   "execution_count": null,
   "metadata": {},
   "outputs": [],
   "source": []
  },
  {
   "cell_type": "markdown",
   "metadata": {},
   "source": [
    "(2) (15') Please plot the objective function (SSE) $J(w)$ as a function of iterations."
   ]
  },
  {
   "cell_type": "code",
   "execution_count": null,
   "metadata": {},
   "outputs": [],
   "source": []
  },
  {
   "cell_type": "markdown",
   "metadata": {},
   "source": [
    "### 2. MNIST CNN (40' + Bonus 10')\n",
    "Please go through \n",
    "https://github.com/RnR-2018/BMEN4460-NB2-image_classification_on_MNIST_data\n",
    "\n",
    "The notebook BMEN4460-NB2-image_classification_on_MNIST_data.ipynb walks you through the process of building a convolutional neural network (CNN) to classify the handwritten digits.\n",
    "\n",
    "The notebook with visualization BMEN4460-NB2-image_classification_on_MNIST_data_with_visualization.ipynb intends to visualize how the convolutional kernels/filters evolve over the training process.\n"
   ]
  },
  {
   "cell_type": "markdown",
   "metadata": {},
   "source": [
    "#### (1) (15') Please calculate the number of paprameters for each layers."
   ]
  },
  {
   "cell_type": "code",
   "execution_count": null,
   "metadata": {},
   "outputs": [],
   "source": []
  },
  {
   "cell_type": "markdown",
   "metadata": {},
   "source": [
    "#### (2) (25') Please increase the output channel of the second convolutional layer from 20 to 40 and rerun the model."
   ]
  },
  {
   "cell_type": "code",
   "execution_count": null,
   "metadata": {},
   "outputs": [],
   "source": []
  },
  {
   "cell_type": "markdown",
   "metadata": {},
   "source": [
    "#### (3) (Bonus 10pts) Please write down the last four digits of your UNI and apply your MNIST model to classify the four digits. \n",
    "- a. Write down any digit on a white paper with black pen.\n",
    "- b. Take a picture of the digit. \n",
    "- c. Convert the picture as .png format. \n",
    "- d. Process the image with thresholding operation, s.t. the digit is white color (as 255) and the background is black color (as 0).\n",
    "- e. Convert the binarized image into 28 x 28 image size.\n",
    "- f. Use this 28 x 28 image you just generated as the testing image for your MNIST model and report its predicted label (i.e., the 10 x 1 probobility array).  \n",
    "- g. Please comment on the prediction, whether or not you get the correct label and why."
   ]
  },
  {
   "cell_type": "code",
   "execution_count": null,
   "metadata": {},
   "outputs": [],
   "source": []
  }
 ],
 "metadata": {
  "kernelspec": {
   "display_name": "Python 3",
   "language": "python",
   "name": "python3"
  },
  "language_info": {
   "codemirror_mode": {
    "name": "ipython",
    "version": 3
   },
   "file_extension": ".py",
   "mimetype": "text/x-python",
   "name": "python",
   "nbconvert_exporter": "python",
   "pygments_lexer": "ipython3",
   "version": "3.7.6"
  }
 },
 "nbformat": 4,
 "nbformat_minor": 4
}
